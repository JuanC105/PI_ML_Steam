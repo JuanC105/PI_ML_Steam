{
 "cells": [
  {
   "cell_type": "code",
   "execution_count": 40,
   "metadata": {},
   "outputs": [],
   "source": [
    "import pandas as pd\n",
    "import ast\n",
    "from textblob import TextBlob\n",
    "import re\n",
    "from datetime import datetime\n",
    "import nltk\n",
    "from nltk.corpus import stopwords\n",
    "from langdetect import detect\n",
    "from langcodes import Language"
   ]
  },
  {
   "cell_type": "code",
   "execution_count": 41,
   "metadata": {},
   "outputs": [],
   "source": [
    "games = pd.read_csv('./games.csv', sep=',')\n",
    "reviews = pd.read_csv('./reviews.csv', sep=',')\n",
    "items = pd.read_csv('./items.csv', sep=',')"
   ]
  },
  {
   "cell_type": "markdown",
   "metadata": {},
   "source": [
    "Clean EDA files are imported."
   ]
  },
  {
   "cell_type": "code",
   "execution_count": 42,
   "metadata": {},
   "outputs": [
    {
     "data": {
      "text/html": [
       "<div>\n",
       "<style scoped>\n",
       "    .dataframe tbody tr th:only-of-type {\n",
       "        vertical-align: middle;\n",
       "    }\n",
       "\n",
       "    .dataframe tbody tr th {\n",
       "        vertical-align: top;\n",
       "    }\n",
       "\n",
       "    .dataframe thead th {\n",
       "        text-align: right;\n",
       "    }\n",
       "</style>\n",
       "<table border=\"1\" class=\"dataframe\">\n",
       "  <thead>\n",
       "    <tr style=\"text-align: right;\">\n",
       "      <th></th>\n",
       "      <th>publisher</th>\n",
       "      <th>genres</th>\n",
       "      <th>app_name</th>\n",
       "      <th>title</th>\n",
       "      <th>url</th>\n",
       "      <th>release_date</th>\n",
       "      <th>tags</th>\n",
       "      <th>reviews_url</th>\n",
       "      <th>specs</th>\n",
       "      <th>price</th>\n",
       "      <th>early_access</th>\n",
       "      <th>id</th>\n",
       "      <th>developer</th>\n",
       "    </tr>\n",
       "  </thead>\n",
       "  <tbody>\n",
       "    <tr>\n",
       "      <th>0</th>\n",
       "      <td>Kotoshiro</td>\n",
       "      <td>['Action', 'Casual', 'Indie', 'Simulation', 'S...</td>\n",
       "      <td>Lost Summoner Kitty</td>\n",
       "      <td>Lost Summoner Kitty</td>\n",
       "      <td>http://store.steampowered.com/app/761140/Lost_...</td>\n",
       "      <td>2018-01-04</td>\n",
       "      <td>['Strategy', 'Action', 'Indie', 'Casual', 'Sim...</td>\n",
       "      <td>http://steamcommunity.com/app/761140/reviews/?...</td>\n",
       "      <td>['Single-player']</td>\n",
       "      <td>4.99</td>\n",
       "      <td>0.0</td>\n",
       "      <td>761140.0</td>\n",
       "      <td>Kotoshiro</td>\n",
       "    </tr>\n",
       "  </tbody>\n",
       "</table>\n",
       "</div>"
      ],
      "text/plain": [
       "   publisher                                             genres  \\\n",
       "0  Kotoshiro  ['Action', 'Casual', 'Indie', 'Simulation', 'S...   \n",
       "\n",
       "              app_name                title  \\\n",
       "0  Lost Summoner Kitty  Lost Summoner Kitty   \n",
       "\n",
       "                                                 url release_date  \\\n",
       "0  http://store.steampowered.com/app/761140/Lost_...   2018-01-04   \n",
       "\n",
       "                                                tags  \\\n",
       "0  ['Strategy', 'Action', 'Indie', 'Casual', 'Sim...   \n",
       "\n",
       "                                         reviews_url              specs price  \\\n",
       "0  http://steamcommunity.com/app/761140/reviews/?...  ['Single-player']  4.99   \n",
       "\n",
       "   early_access        id  developer  \n",
       "0           0.0  761140.0  Kotoshiro  "
      ]
     },
     "execution_count": 42,
     "metadata": {},
     "output_type": "execute_result"
    }
   ],
   "source": [
    "games.head(1)"
   ]
  },
  {
   "cell_type": "code",
   "execution_count": 43,
   "metadata": {},
   "outputs": [
    {
     "data": {
      "text/html": [
       "<div>\n",
       "<style scoped>\n",
       "    .dataframe tbody tr th:only-of-type {\n",
       "        vertical-align: middle;\n",
       "    }\n",
       "\n",
       "    .dataframe tbody tr th {\n",
       "        vertical-align: top;\n",
       "    }\n",
       "\n",
       "    .dataframe thead th {\n",
       "        text-align: right;\n",
       "    }\n",
       "</style>\n",
       "<table border=\"1\" class=\"dataframe\">\n",
       "  <thead>\n",
       "    <tr style=\"text-align: right;\">\n",
       "      <th></th>\n",
       "      <th>user_id</th>\n",
       "      <th>user_url</th>\n",
       "      <th>reviews</th>\n",
       "    </tr>\n",
       "  </thead>\n",
       "  <tbody>\n",
       "    <tr>\n",
       "      <th>0</th>\n",
       "      <td>76561198047135310</td>\n",
       "      <td>http://steamcommunity.com/profiles/76561198047...</td>\n",
       "      <td>[{'funny': '1 person found this review funny',...</td>\n",
       "    </tr>\n",
       "  </tbody>\n",
       "</table>\n",
       "</div>"
      ],
      "text/plain": [
       "             user_id                                           user_url  \\\n",
       "0  76561198047135310  http://steamcommunity.com/profiles/76561198047...   \n",
       "\n",
       "                                             reviews  \n",
       "0  [{'funny': '1 person found this review funny',...  "
      ]
     },
     "execution_count": 43,
     "metadata": {},
     "output_type": "execute_result"
    }
   ],
   "source": [
    "reviews.head(1)"
   ]
  },
  {
   "cell_type": "code",
   "execution_count": 44,
   "metadata": {},
   "outputs": [
    {
     "data": {
      "text/html": [
       "<div>\n",
       "<style scoped>\n",
       "    .dataframe tbody tr th:only-of-type {\n",
       "        vertical-align: middle;\n",
       "    }\n",
       "\n",
       "    .dataframe tbody tr th {\n",
       "        vertical-align: top;\n",
       "    }\n",
       "\n",
       "    .dataframe thead th {\n",
       "        text-align: right;\n",
       "    }\n",
       "</style>\n",
       "<table border=\"1\" class=\"dataframe\">\n",
       "  <thead>\n",
       "    <tr style=\"text-align: right;\">\n",
       "      <th></th>\n",
       "      <th>user_id</th>\n",
       "      <th>items_count</th>\n",
       "      <th>steam_id</th>\n",
       "      <th>user_url</th>\n",
       "      <th>items</th>\n",
       "    </tr>\n",
       "  </thead>\n",
       "  <tbody>\n",
       "    <tr>\n",
       "      <th>0</th>\n",
       "      <td>WeiEDKrSat</td>\n",
       "      <td>28</td>\n",
       "      <td>76561198041660154</td>\n",
       "      <td>http://steamcommunity.com/id/WeiEDKrSat</td>\n",
       "      <td>[{'item_id': '10', 'item_name': 'Counter-Strik...</td>\n",
       "    </tr>\n",
       "  </tbody>\n",
       "</table>\n",
       "</div>"
      ],
      "text/plain": [
       "      user_id  items_count           steam_id  \\\n",
       "0  WeiEDKrSat           28  76561198041660154   \n",
       "\n",
       "                                  user_url  \\\n",
       "0  http://steamcommunity.com/id/WeiEDKrSat   \n",
       "\n",
       "                                               items  \n",
       "0  [{'item_id': '10', 'item_name': 'Counter-Strik...  "
      ]
     },
     "execution_count": 44,
     "metadata": {},
     "output_type": "execute_result"
    }
   ],
   "source": [
    "items.head(1)"
   ]
  },
  {
   "cell_type": "code",
   "execution_count": 45,
   "metadata": {},
   "outputs": [],
   "source": [
    "bck_reviews = reviews.copy()"
   ]
  },
  {
   "cell_type": "code",
   "execution_count": 46,
   "metadata": {},
   "outputs": [],
   "source": [
    "reviews = bck_reviews.copy()"
   ]
  },
  {
   "cell_type": "markdown",
   "metadata": {},
   "source": [
    "## Sentiment_analysis"
   ]
  },
  {
   "cell_type": "code",
   "execution_count": 47,
   "metadata": {},
   "outputs": [],
   "source": [
    "reviews['reviews'] = reviews['reviews'].apply(ast.literal_eval)"
   ]
  },
  {
   "cell_type": "markdown",
   "metadata": {},
   "source": [
    "The <code>ast.literal_eval</code> function allows the reviews data to be taken as lists, since when imported from a csv they can be considered strings or other types that can cause errors when working with them."
   ]
  },
  {
   "cell_type": "code",
   "execution_count": 48,
   "metadata": {},
   "outputs": [],
   "source": [
    "def extract_item_id(review_list):\n",
    "    item_id_list = []\n",
    "\n",
    "    for review in review_list:\n",
    "        if isinstance(review, dict) and 'item_id' in review:\n",
    "            item_id_list.append(review['item_id'])\n",
    "        else:\n",
    "            item_id_list.append(None)\n",
    "\n",
    "    return item_id_list\n",
    "\n",
    "reviews['item_id'] = reviews['reviews'].apply(extract_item_id)"
   ]
  },
  {
   "cell_type": "code",
   "execution_count": 49,
   "metadata": {},
   "outputs": [],
   "source": [
    "def extract_review(review_list):\n",
    "    review_2_list = []\n",
    "\n",
    "    for review in review_list:\n",
    "        if isinstance(review, dict) and 'review' in review:\n",
    "            review_2_list.append(review['review'])\n",
    "        else:\n",
    "            review_2_list.append(None)\n",
    "\n",
    "    return review_2_list\n",
    "\n",
    "reviews['review_2'] = reviews['reviews'].apply(extract_review)"
   ]
  },
  {
   "cell_type": "markdown",
   "metadata": {},
   "source": [
    "The two functions (<code>extract_item_id</code> and <code>extract_review</code>) extract specific data found within the dictionaries of the review column and group them into a list in a new column."
   ]
  },
  {
   "cell_type": "code",
   "execution_count": 50,
   "metadata": {},
   "outputs": [],
   "source": [
    "def detect_language(text):\n",
    "    try:\n",
    "        lang_code = detect(text)\n",
    "        lang_name = Language.get(lang_code).display_name()\n",
    "        return lang_name\n",
    "    except:\n",
    "        return 'unknown'"
   ]
  },
  {
   "cell_type": "code",
   "execution_count": 51,
   "metadata": {},
   "outputs": [],
   "source": [
    "reviews['language'] = reviews['review_2'].apply(lambda lst: detect_language(' '.join(lst)))"
   ]
  },
  {
   "cell_type": "markdown",
   "metadata": {},
   "source": [
    "The <code>detect_language</code> function uses the import library Language to detect the language of the previously extracted reviews, because they are written in different languages."
   ]
  },
  {
   "cell_type": "code",
   "execution_count": 52,
   "metadata": {},
   "outputs": [
    {
     "name": "stderr",
     "output_type": "stream",
     "text": [
      "[nltk_data] Downloading package stopwords to\n",
      "[nltk_data]     C:\\Users\\Usuario\\AppData\\Roaming\\nltk_data...\n",
      "[nltk_data]   Package stopwords is already up-to-date!\n"
     ]
    },
    {
     "data": {
      "text/plain": [
       "True"
      ]
     },
     "execution_count": 52,
     "metadata": {},
     "output_type": "execute_result"
    }
   ],
   "source": [
    "nltk.download('stopwords')"
   ]
  },
  {
   "cell_type": "code",
   "execution_count": 53,
   "metadata": {},
   "outputs": [],
   "source": [
    "def preprocess_text(text: str, lang: str):\n",
    "    text = text.lower()\n",
    "    lang = lang.lower()\n",
    "    \n",
    "    text = re.sub(r'[^a-zA-Z\\s]', '', text)\n",
    "    \n",
    "    tokens = nltk.word_tokenize(text)\n",
    "    \n",
    "    try:\n",
    "        stop_words = set(stopwords.words(lang))\n",
    "    except:\n",
    "        stop_words = set()\n",
    "    \n",
    "    tokens = [word for word in tokens if word not in stop_words]\n",
    "    \n",
    "    return tokens"
   ]
  },
  {
   "cell_type": "code",
   "execution_count": 54,
   "metadata": {},
   "outputs": [],
   "source": [
    "reviews['review_clean'] = reviews.apply(lambda row: [preprocess_text(text, row['language']) for text in row['review_2']], axis=1)"
   ]
  },
  {
   "cell_type": "markdown",
   "metadata": {},
   "source": [
    "The <code>preprocess_text</code> function converts all reviews to lowercase, and depending on the identified language uses a different set of stopwords. Then, it removes the stopwords detected in each review."
   ]
  },
  {
   "cell_type": "code",
   "execution_count": 55,
   "metadata": {},
   "outputs": [],
   "source": [
    "def sentiment_analysis(review_list):\n",
    "    sentiment_list = []\n",
    "\n",
    "    for inner_list in review_list:\n",
    "        if len(inner_list) == 0:\n",
    "            sentiment_list.append('1')\n",
    "        else:\n",
    "            total_sentiment = 0\n",
    "            for text in inner_list:\n",
    "                sentiment = TextBlob(text).sentiment.polarity\n",
    "\n",
    "                if sentiment > 0:\n",
    "                    total_sentiment += 1\n",
    "                elif sentiment < -0.2:\n",
    "                    total_sentiment -= 1\n",
    "\n",
    "            if total_sentiment > 0:\n",
    "                sentiment_list.append('2')\n",
    "            elif total_sentiment < 0:\n",
    "                sentiment_list.append('0')\n",
    "            else:\n",
    "                sentiment_list.append('1')\n",
    "\n",
    "    return sentiment_list"
   ]
  },
  {
   "cell_type": "code",
   "execution_count": 56,
   "metadata": {},
   "outputs": [],
   "source": [
    "reviews['sentiment_analysis'] = reviews['review_clean'].apply(sentiment_analysis)"
   ]
  },
  {
   "cell_type": "markdown",
   "metadata": {},
   "source": [
    "The <code>sentiment_analysis</code> function analyzes each word of each review and assigns it a sentiment score according to the TextBlob library. Finally, it assigns 0 (Negative), 1 (Neutral) or 2 (Positive) depending on the final sentiment score of each review."
   ]
  },
  {
   "cell_type": "code",
   "execution_count": 57,
   "metadata": {},
   "outputs": [],
   "source": [
    "reviews = reviews.drop(columns=['review_2', 'review_clean', 'language'])"
   ]
  },
  {
   "cell_type": "code",
   "execution_count": 58,
   "metadata": {},
   "outputs": [
    {
     "data": {
      "text/html": [
       "<div>\n",
       "<style scoped>\n",
       "    .dataframe tbody tr th:only-of-type {\n",
       "        vertical-align: middle;\n",
       "    }\n",
       "\n",
       "    .dataframe tbody tr th {\n",
       "        vertical-align: top;\n",
       "    }\n",
       "\n",
       "    .dataframe thead th {\n",
       "        text-align: right;\n",
       "    }\n",
       "</style>\n",
       "<table border=\"1\" class=\"dataframe\">\n",
       "  <thead>\n",
       "    <tr style=\"text-align: right;\">\n",
       "      <th></th>\n",
       "      <th>user_id</th>\n",
       "      <th>user_url</th>\n",
       "      <th>reviews</th>\n",
       "      <th>item_id</th>\n",
       "      <th>sentiment_analysis</th>\n",
       "    </tr>\n",
       "  </thead>\n",
       "  <tbody>\n",
       "    <tr>\n",
       "      <th>0</th>\n",
       "      <td>76561198047135310</td>\n",
       "      <td>http://steamcommunity.com/profiles/76561198047...</td>\n",
       "      <td>[{'funny': '1 person found this review funny',...</td>\n",
       "      <td>[224480, 220700]</td>\n",
       "      <td>[1, 1]</td>\n",
       "    </tr>\n",
       "    <tr>\n",
       "      <th>1</th>\n",
       "      <td>hhaz</td>\n",
       "      <td>http://steamcommunity.com/id/hhaz</td>\n",
       "      <td>[{'funny': '', 'posted': 'Posted February 13, ...</td>\n",
       "      <td>[211420, 241930]</td>\n",
       "      <td>[0, 2]</td>\n",
       "    </tr>\n",
       "    <tr>\n",
       "      <th>2</th>\n",
       "      <td>D_55</td>\n",
       "      <td>http://steamcommunity.com/id/D_55</td>\n",
       "      <td>[{'funny': '', 'posted': 'Posted March 31, 201...</td>\n",
       "      <td>[440]</td>\n",
       "      <td>[2]</td>\n",
       "    </tr>\n",
       "    <tr>\n",
       "      <th>3</th>\n",
       "      <td>76561198072898248</td>\n",
       "      <td>http://steamcommunity.com/profiles/76561198072...</td>\n",
       "      <td>[{'funny': '', 'posted': 'Posted December 6, 2...</td>\n",
       "      <td>[203160]</td>\n",
       "      <td>[0]</td>\n",
       "    </tr>\n",
       "    <tr>\n",
       "      <th>4</th>\n",
       "      <td>76561198055370293</td>\n",
       "      <td>http://steamcommunity.com/profiles/76561198055...</td>\n",
       "      <td>[{'funny': '', 'posted': 'Posted July 3, 2014....</td>\n",
       "      <td>[221100, 238320]</td>\n",
       "      <td>[1, 2]</td>\n",
       "    </tr>\n",
       "  </tbody>\n",
       "</table>\n",
       "</div>"
      ],
      "text/plain": [
       "             user_id                                           user_url  \\\n",
       "0  76561198047135310  http://steamcommunity.com/profiles/76561198047...   \n",
       "1               hhaz                  http://steamcommunity.com/id/hhaz   \n",
       "2               D_55                  http://steamcommunity.com/id/D_55   \n",
       "3  76561198072898248  http://steamcommunity.com/profiles/76561198072...   \n",
       "4  76561198055370293  http://steamcommunity.com/profiles/76561198055...   \n",
       "\n",
       "                                             reviews           item_id  \\\n",
       "0  [{'funny': '1 person found this review funny',...  [224480, 220700]   \n",
       "1  [{'funny': '', 'posted': 'Posted February 13, ...  [211420, 241930]   \n",
       "2  [{'funny': '', 'posted': 'Posted March 31, 201...             [440]   \n",
       "3  [{'funny': '', 'posted': 'Posted December 6, 2...          [203160]   \n",
       "4  [{'funny': '', 'posted': 'Posted July 3, 2014....  [221100, 238320]   \n",
       "\n",
       "  sentiment_analysis  \n",
       "0             [1, 1]  \n",
       "1             [0, 2]  \n",
       "2                [2]  \n",
       "3                [0]  \n",
       "4             [1, 2]  "
      ]
     },
     "execution_count": 58,
     "metadata": {},
     "output_type": "execute_result"
    }
   ],
   "source": [
    "reviews.head()"
   ]
  },
  {
   "cell_type": "code",
   "execution_count": 59,
   "metadata": {},
   "outputs": [],
   "source": [
    "reviews.to_csv('./API_csv/sentiment_analysis_column.csv')"
   ]
  },
  {
   "cell_type": "markdown",
   "metadata": {},
   "source": [
    "The dataframe with the new sentiment_analysis column is exported as a csv for use in creating the API."
   ]
  },
  {
   "cell_type": "markdown",
   "metadata": {},
   "source": [
    "## def user_data"
   ]
  },
  {
   "cell_type": "code",
   "execution_count": 60,
   "metadata": {},
   "outputs": [
    {
     "data": {
      "text/html": [
       "<div>\n",
       "<style scoped>\n",
       "    .dataframe tbody tr th:only-of-type {\n",
       "        vertical-align: middle;\n",
       "    }\n",
       "\n",
       "    .dataframe tbody tr th {\n",
       "        vertical-align: top;\n",
       "    }\n",
       "\n",
       "    .dataframe thead th {\n",
       "        text-align: right;\n",
       "    }\n",
       "</style>\n",
       "<table border=\"1\" class=\"dataframe\">\n",
       "  <thead>\n",
       "    <tr style=\"text-align: right;\">\n",
       "      <th></th>\n",
       "      <th>user_id</th>\n",
       "      <th>items_count</th>\n",
       "      <th>steam_id</th>\n",
       "      <th>user_url</th>\n",
       "      <th>items</th>\n",
       "    </tr>\n",
       "  </thead>\n",
       "  <tbody>\n",
       "    <tr>\n",
       "      <th>0</th>\n",
       "      <td>WeiEDKrSat</td>\n",
       "      <td>28</td>\n",
       "      <td>76561198041660154</td>\n",
       "      <td>http://steamcommunity.com/id/WeiEDKrSat</td>\n",
       "      <td>[{'item_id': '10', 'item_name': 'Counter-Strik...</td>\n",
       "    </tr>\n",
       "    <tr>\n",
       "      <th>1</th>\n",
       "      <td>Leaf_Light_Moscow</td>\n",
       "      <td>5</td>\n",
       "      <td>76561198305694024</td>\n",
       "      <td>http://steamcommunity.com/id/Leaf_Light_Moscow</td>\n",
       "      <td>[{'item_id': '4000', 'item_name': \"Garry's Mod...</td>\n",
       "    </tr>\n",
       "    <tr>\n",
       "      <th>2</th>\n",
       "      <td>76561198061252210</td>\n",
       "      <td>25</td>\n",
       "      <td>76561198061252210</td>\n",
       "      <td>http://steamcommunity.com/profiles/76561198061...</td>\n",
       "      <td>[{'item_id': '220', 'item_name': 'Half-Life 2'...</td>\n",
       "    </tr>\n",
       "    <tr>\n",
       "      <th>3</th>\n",
       "      <td>Derp-e</td>\n",
       "      <td>18</td>\n",
       "      <td>76561198045022050</td>\n",
       "      <td>http://steamcommunity.com/id/Derp-e</td>\n",
       "      <td>[{'item_id': '4000', 'item_name': \"Garry's Mod...</td>\n",
       "    </tr>\n",
       "    <tr>\n",
       "      <th>4</th>\n",
       "      <td>sandwiches1</td>\n",
       "      <td>172</td>\n",
       "      <td>76561198052850911</td>\n",
       "      <td>http://steamcommunity.com/id/sandwiches1</td>\n",
       "      <td>[{'item_id': '2400', 'item_name': 'The Ship', ...</td>\n",
       "    </tr>\n",
       "  </tbody>\n",
       "</table>\n",
       "</div>"
      ],
      "text/plain": [
       "             user_id  items_count           steam_id  \\\n",
       "0         WeiEDKrSat           28  76561198041660154   \n",
       "1  Leaf_Light_Moscow            5  76561198305694024   \n",
       "2  76561198061252210           25  76561198061252210   \n",
       "3             Derp-e           18  76561198045022050   \n",
       "4        sandwiches1          172  76561198052850911   \n",
       "\n",
       "                                            user_url  \\\n",
       "0            http://steamcommunity.com/id/WeiEDKrSat   \n",
       "1     http://steamcommunity.com/id/Leaf_Light_Moscow   \n",
       "2  http://steamcommunity.com/profiles/76561198061...   \n",
       "3                http://steamcommunity.com/id/Derp-e   \n",
       "4           http://steamcommunity.com/id/sandwiches1   \n",
       "\n",
       "                                               items  \n",
       "0  [{'item_id': '10', 'item_name': 'Counter-Strik...  \n",
       "1  [{'item_id': '4000', 'item_name': \"Garry's Mod...  \n",
       "2  [{'item_id': '220', 'item_name': 'Half-Life 2'...  \n",
       "3  [{'item_id': '4000', 'item_name': \"Garry's Mod...  \n",
       "4  [{'item_id': '2400', 'item_name': 'The Ship', ...  "
      ]
     },
     "execution_count": 60,
     "metadata": {},
     "output_type": "execute_result"
    }
   ],
   "source": [
    "items.head()"
   ]
  },
  {
   "cell_type": "code",
   "execution_count": 61,
   "metadata": {},
   "outputs": [],
   "source": [
    "items['items'] = items['items'].apply(ast.literal_eval)\n",
    "items['item_id'] = items['items'].apply(extract_item_id)"
   ]
  },
  {
   "cell_type": "code",
   "execution_count": 62,
   "metadata": {},
   "outputs": [],
   "source": [
    "def extract_recommend(review_list):\n",
    "    recommend_list = []\n",
    "\n",
    "    for recommend in review_list:\n",
    "        if isinstance(recommend, dict) and 'recommend' in recommend:\n",
    "            recommend_list.append(recommend['recommend'])\n",
    "        else:\n",
    "            recommend_list.append(None)\n",
    "\n",
    "    return recommend_list\n",
    "\n",
    "reviews['recommend'] = reviews['reviews'].apply(extract_recommend)"
   ]
  },
  {
   "cell_type": "code",
   "execution_count": 63,
   "metadata": {},
   "outputs": [],
   "source": [
    "def count_true(lst):\n",
    "    return lst.count(True)\n",
    "\n",
    "reviews['pct_recommend'] = reviews['recommend'].apply(lambda lst: lst.count(True) / len(lst) if len(lst) > 0 else 0)"
   ]
  },
  {
   "cell_type": "code",
   "execution_count": 64,
   "metadata": {},
   "outputs": [
    {
     "data": {
      "text/html": [
       "<div>\n",
       "<style scoped>\n",
       "    .dataframe tbody tr th:only-of-type {\n",
       "        vertical-align: middle;\n",
       "    }\n",
       "\n",
       "    .dataframe tbody tr th {\n",
       "        vertical-align: top;\n",
       "    }\n",
       "\n",
       "    .dataframe thead th {\n",
       "        text-align: right;\n",
       "    }\n",
       "</style>\n",
       "<table border=\"1\" class=\"dataframe\">\n",
       "  <thead>\n",
       "    <tr style=\"text-align: right;\">\n",
       "      <th></th>\n",
       "      <th>user_id</th>\n",
       "      <th>items_count</th>\n",
       "      <th>steam_id</th>\n",
       "      <th>user_url</th>\n",
       "      <th>items</th>\n",
       "      <th>item_id</th>\n",
       "    </tr>\n",
       "  </thead>\n",
       "  <tbody>\n",
       "    <tr>\n",
       "      <th>0</th>\n",
       "      <td>WeiEDKrSat</td>\n",
       "      <td>28</td>\n",
       "      <td>76561198041660154</td>\n",
       "      <td>http://steamcommunity.com/id/WeiEDKrSat</td>\n",
       "      <td>[{'item_id': '10', 'item_name': 'Counter-Strik...</td>\n",
       "      <td>[10, 80, 100, 60, 70, 4000, 220, 340, 550, 223...</td>\n",
       "    </tr>\n",
       "    <tr>\n",
       "      <th>1</th>\n",
       "      <td>Leaf_Light_Moscow</td>\n",
       "      <td>5</td>\n",
       "      <td>76561198305694024</td>\n",
       "      <td>http://steamcommunity.com/id/Leaf_Light_Moscow</td>\n",
       "      <td>[{'item_id': '4000', 'item_name': 'Garry's Mod...</td>\n",
       "      <td>[4000, 221100, 304930, 323370, 346120]</td>\n",
       "    </tr>\n",
       "    <tr>\n",
       "      <th>2</th>\n",
       "      <td>76561198061252210</td>\n",
       "      <td>25</td>\n",
       "      <td>76561198061252210</td>\n",
       "      <td>http://steamcommunity.com/profiles/76561198061...</td>\n",
       "      <td>[{'item_id': '220', 'item_name': 'Half-Life 2'...</td>\n",
       "      <td>[220, 340, 4000, 12210, 550, 223530, 105600, 7...</td>\n",
       "    </tr>\n",
       "    <tr>\n",
       "      <th>3</th>\n",
       "      <td>Derp-e</td>\n",
       "      <td>18</td>\n",
       "      <td>76561198045022050</td>\n",
       "      <td>http://steamcommunity.com/id/Derp-e</td>\n",
       "      <td>[{'item_id': '4000', 'item_name': 'Garry's Mod...</td>\n",
       "      <td>[4000, 1250, 35420, 8980, 12210, 12220, 31280,...</td>\n",
       "    </tr>\n",
       "    <tr>\n",
       "      <th>4</th>\n",
       "      <td>sandwiches1</td>\n",
       "      <td>172</td>\n",
       "      <td>76561198052850911</td>\n",
       "      <td>http://steamcommunity.com/id/sandwiches1</td>\n",
       "      <td>[{'item_id': '2400', 'item_name': 'The Ship', ...</td>\n",
       "      <td>[2400, 2420, 2430, 3320, 240, 4000, 8000, 4560...</td>\n",
       "    </tr>\n",
       "  </tbody>\n",
       "</table>\n",
       "</div>"
      ],
      "text/plain": [
       "             user_id  items_count           steam_id  \\\n",
       "0         WeiEDKrSat           28  76561198041660154   \n",
       "1  Leaf_Light_Moscow            5  76561198305694024   \n",
       "2  76561198061252210           25  76561198061252210   \n",
       "3             Derp-e           18  76561198045022050   \n",
       "4        sandwiches1          172  76561198052850911   \n",
       "\n",
       "                                            user_url  \\\n",
       "0            http://steamcommunity.com/id/WeiEDKrSat   \n",
       "1     http://steamcommunity.com/id/Leaf_Light_Moscow   \n",
       "2  http://steamcommunity.com/profiles/76561198061...   \n",
       "3                http://steamcommunity.com/id/Derp-e   \n",
       "4           http://steamcommunity.com/id/sandwiches1   \n",
       "\n",
       "                                               items  \\\n",
       "0  [{'item_id': '10', 'item_name': 'Counter-Strik...   \n",
       "1  [{'item_id': '4000', 'item_name': 'Garry's Mod...   \n",
       "2  [{'item_id': '220', 'item_name': 'Half-Life 2'...   \n",
       "3  [{'item_id': '4000', 'item_name': 'Garry's Mod...   \n",
       "4  [{'item_id': '2400', 'item_name': 'The Ship', ...   \n",
       "\n",
       "                                             item_id  \n",
       "0  [10, 80, 100, 60, 70, 4000, 220, 340, 550, 223...  \n",
       "1             [4000, 221100, 304930, 323370, 346120]  \n",
       "2  [220, 340, 4000, 12210, 550, 223530, 105600, 7...  \n",
       "3  [4000, 1250, 35420, 8980, 12210, 12220, 31280,...  \n",
       "4  [2400, 2420, 2430, 3320, 240, 4000, 8000, 4560...  "
      ]
     },
     "execution_count": 64,
     "metadata": {},
     "output_type": "execute_result"
    }
   ],
   "source": [
    "items.head()"
   ]
  },
  {
   "cell_type": "code",
   "execution_count": 65,
   "metadata": {},
   "outputs": [
    {
     "data": {
      "text/html": [
       "<div>\n",
       "<style scoped>\n",
       "    .dataframe tbody tr th:only-of-type {\n",
       "        vertical-align: middle;\n",
       "    }\n",
       "\n",
       "    .dataframe tbody tr th {\n",
       "        vertical-align: top;\n",
       "    }\n",
       "\n",
       "    .dataframe thead th {\n",
       "        text-align: right;\n",
       "    }\n",
       "</style>\n",
       "<table border=\"1\" class=\"dataframe\">\n",
       "  <thead>\n",
       "    <tr style=\"text-align: right;\">\n",
       "      <th></th>\n",
       "      <th>user_id</th>\n",
       "      <th>user_url</th>\n",
       "      <th>reviews</th>\n",
       "      <th>item_id</th>\n",
       "      <th>sentiment_analysis</th>\n",
       "      <th>recommend</th>\n",
       "      <th>pct_recommend</th>\n",
       "    </tr>\n",
       "  </thead>\n",
       "  <tbody>\n",
       "    <tr>\n",
       "      <th>0</th>\n",
       "      <td>76561198047135310</td>\n",
       "      <td>http://steamcommunity.com/profiles/76561198047...</td>\n",
       "      <td>[{'funny': '1 person found this review funny',...</td>\n",
       "      <td>[224480, 220700]</td>\n",
       "      <td>[1, 1]</td>\n",
       "      <td>[True, True]</td>\n",
       "      <td>1.0</td>\n",
       "    </tr>\n",
       "    <tr>\n",
       "      <th>1</th>\n",
       "      <td>hhaz</td>\n",
       "      <td>http://steamcommunity.com/id/hhaz</td>\n",
       "      <td>[{'funny': '', 'posted': 'Posted February 13, ...</td>\n",
       "      <td>[211420, 241930]</td>\n",
       "      <td>[0, 2]</td>\n",
       "      <td>[False, True]</td>\n",
       "      <td>0.5</td>\n",
       "    </tr>\n",
       "    <tr>\n",
       "      <th>2</th>\n",
       "      <td>D_55</td>\n",
       "      <td>http://steamcommunity.com/id/D_55</td>\n",
       "      <td>[{'funny': '', 'posted': 'Posted March 31, 201...</td>\n",
       "      <td>[440]</td>\n",
       "      <td>[2]</td>\n",
       "      <td>[True]</td>\n",
       "      <td>1.0</td>\n",
       "    </tr>\n",
       "    <tr>\n",
       "      <th>3</th>\n",
       "      <td>76561198072898248</td>\n",
       "      <td>http://steamcommunity.com/profiles/76561198072...</td>\n",
       "      <td>[{'funny': '', 'posted': 'Posted December 6, 2...</td>\n",
       "      <td>[203160]</td>\n",
       "      <td>[0]</td>\n",
       "      <td>[True]</td>\n",
       "      <td>1.0</td>\n",
       "    </tr>\n",
       "    <tr>\n",
       "      <th>4</th>\n",
       "      <td>76561198055370293</td>\n",
       "      <td>http://steamcommunity.com/profiles/76561198055...</td>\n",
       "      <td>[{'funny': '', 'posted': 'Posted July 3, 2014....</td>\n",
       "      <td>[221100, 238320]</td>\n",
       "      <td>[1, 2]</td>\n",
       "      <td>[True, True]</td>\n",
       "      <td>1.0</td>\n",
       "    </tr>\n",
       "  </tbody>\n",
       "</table>\n",
       "</div>"
      ],
      "text/plain": [
       "             user_id                                           user_url  \\\n",
       "0  76561198047135310  http://steamcommunity.com/profiles/76561198047...   \n",
       "1               hhaz                  http://steamcommunity.com/id/hhaz   \n",
       "2               D_55                  http://steamcommunity.com/id/D_55   \n",
       "3  76561198072898248  http://steamcommunity.com/profiles/76561198072...   \n",
       "4  76561198055370293  http://steamcommunity.com/profiles/76561198055...   \n",
       "\n",
       "                                             reviews           item_id  \\\n",
       "0  [{'funny': '1 person found this review funny',...  [224480, 220700]   \n",
       "1  [{'funny': '', 'posted': 'Posted February 13, ...  [211420, 241930]   \n",
       "2  [{'funny': '', 'posted': 'Posted March 31, 201...             [440]   \n",
       "3  [{'funny': '', 'posted': 'Posted December 6, 2...          [203160]   \n",
       "4  [{'funny': '', 'posted': 'Posted July 3, 2014....  [221100, 238320]   \n",
       "\n",
       "  sentiment_analysis      recommend  pct_recommend  \n",
       "0             [1, 1]   [True, True]            1.0  \n",
       "1             [0, 2]  [False, True]            0.5  \n",
       "2                [2]         [True]            1.0  \n",
       "3                [0]         [True]            1.0  \n",
       "4             [1, 2]   [True, True]            1.0  "
      ]
     },
     "execution_count": 65,
     "metadata": {},
     "output_type": "execute_result"
    }
   ],
   "source": [
    "reviews.head()"
   ]
  },
  {
   "cell_type": "code",
   "execution_count": 66,
   "metadata": {},
   "outputs": [],
   "source": [
    "def convert_to_float(value):\n",
    "    try:\n",
    "        return float(value)\n",
    "    except (ValueError, TypeError):\n",
    "        return value\n",
    "\n",
    "games['price'] = games['price'].apply(convert_to_float)"
   ]
  },
  {
   "cell_type": "code",
   "execution_count": 67,
   "metadata": {},
   "outputs": [],
   "source": [
    "def userdata(user_id: str):\n",
    "    target_user_id = str(user_id)\n",
    "    total_price = 0\n",
    "\n",
    "    for index, row in items.iterrows():\n",
    "        if target_user_id in row['user_id']:\n",
    "            for item_id in row['item_id']:\n",
    "                game_row = games[games['id']==float(item_id)]\n",
    "                \n",
    "                if not game_row.empty:\n",
    "                    price = game_row['price'].values[0]\n",
    "                    if price is not None:\n",
    "                        if isinstance(price, (int, float)):\n",
    "                            total_price += float(price)\n",
    "\n",
    "    pct_recommend = reviews.loc[reviews['user_id'] == target_user_id, 'pct_recommend'].iloc[0]\n",
    "    items_count = items.loc[items['user_id'] == target_user_id, 'items_count'].iloc[0]\n",
    "\n",
    "    result_dict = {\n",
    "                    'user': target_user_id,\n",
    "                    'amount_spent': round(total_price, 2),\n",
    "                    'recommendation_pct': pct_recommend,\n",
    "                    'items_count': items_count\n",
    "    }\n",
    "\n",
    "    return result_dict"
   ]
  },
  {
   "cell_type": "code",
   "execution_count": 72,
   "metadata": {},
   "outputs": [
    {
     "data": {
      "text/plain": [
       "{'user': 'hhaz',\n",
       " 'amount_spent': 948.41,\n",
       " 'recommendation_pct': 0.5,\n",
       " 'items_count': 85}"
      ]
     },
     "execution_count": 72,
     "metadata": {},
     "output_type": "execute_result"
    }
   ],
   "source": [
    "userdata(\"hhaz\")"
   ]
  },
  {
   "cell_type": "code",
   "execution_count": 73,
   "metadata": {},
   "outputs": [],
   "source": [
    "items.to_csv('./API_csv/userdata_items.csv')\n",
    "reviews.to_csv('./API_csv/userdata_reviews.csv')\n",
    "games.to_csv('./API_csv/userdata_games.csv')"
   ]
  },
  {
   "cell_type": "markdown",
   "metadata": {},
   "source": [
    "## def countreviews"
   ]
  },
  {
   "cell_type": "code",
   "execution_count": 74,
   "metadata": {},
   "outputs": [],
   "source": [
    "def extract_date(review_list):\n",
    "    date_list = []\n",
    "\n",
    "    for date in review_list:\n",
    "        if isinstance(date, dict) and 'posted' in date:\n",
    "            date_list.append(date['posted'])\n",
    "        else:\n",
    "            date_list.append(None)\n",
    "\n",
    "    return date_list\n",
    "\n",
    "reviews['date'] = reviews['reviews'].apply(extract_date)"
   ]
  },
  {
   "cell_type": "code",
   "execution_count": 75,
   "metadata": {},
   "outputs": [],
   "source": [
    "def modify_date_format(date_string):\n",
    "    match = re.search(r'(\\w+ \\d+, \\d+)', date_string)\n",
    "    if match:\n",
    "        modified_date = match.group(1)\n",
    "        return modified_date\n",
    "    return date_string\n",
    "\n",
    "reviews['date'] = reviews['date'].apply(lambda date_list: [modify_date_format(date) for date in date_list])"
   ]
  },
  {
   "cell_type": "code",
   "execution_count": 76,
   "metadata": {},
   "outputs": [],
   "source": [
    "def convert_to_datetime(date_list):\n",
    "    date_pattern = re.compile(r'\\w+\\s\\d+,\\s\\d{4}')\n",
    "    date_objects = []\n",
    "    \n",
    "    for date in date_list:\n",
    "        try:\n",
    "            date_objects.append(pd.to_datetime(date_pattern.search(date).group()).date())\n",
    "        except AttributeError:\n",
    "            date_objects.append(None) \n",
    "    \n",
    "    return date_objects\n",
    "\n",
    "reviews['date'] = reviews['date'].apply(convert_to_datetime)"
   ]
  },
  {
   "cell_type": "code",
   "execution_count": 77,
   "metadata": {},
   "outputs": [
    {
     "data": {
      "text/html": [
       "<div>\n",
       "<style scoped>\n",
       "    .dataframe tbody tr th:only-of-type {\n",
       "        vertical-align: middle;\n",
       "    }\n",
       "\n",
       "    .dataframe tbody tr th {\n",
       "        vertical-align: top;\n",
       "    }\n",
       "\n",
       "    .dataframe thead th {\n",
       "        text-align: right;\n",
       "    }\n",
       "</style>\n",
       "<table border=\"1\" class=\"dataframe\">\n",
       "  <thead>\n",
       "    <tr style=\"text-align: right;\">\n",
       "      <th></th>\n",
       "      <th>user_id</th>\n",
       "      <th>user_url</th>\n",
       "      <th>reviews</th>\n",
       "      <th>item_id</th>\n",
       "      <th>sentiment_analysis</th>\n",
       "      <th>recommend</th>\n",
       "      <th>pct_recommend</th>\n",
       "      <th>date</th>\n",
       "    </tr>\n",
       "  </thead>\n",
       "  <tbody>\n",
       "    <tr>\n",
       "      <th>0</th>\n",
       "      <td>76561198047135310</td>\n",
       "      <td>http://steamcommunity.com/profiles/76561198047...</td>\n",
       "      <td>[{'funny': '1 person found this review funny',...</td>\n",
       "      <td>[224480, 220700]</td>\n",
       "      <td>[1, 1]</td>\n",
       "      <td>[True, True]</td>\n",
       "      <td>1.0</td>\n",
       "      <td>[None, None]</td>\n",
       "    </tr>\n",
       "  </tbody>\n",
       "</table>\n",
       "</div>"
      ],
      "text/plain": [
       "             user_id                                           user_url  \\\n",
       "0  76561198047135310  http://steamcommunity.com/profiles/76561198047...   \n",
       "\n",
       "                                             reviews           item_id  \\\n",
       "0  [{'funny': '1 person found this review funny',...  [224480, 220700]   \n",
       "\n",
       "  sentiment_analysis     recommend  pct_recommend          date  \n",
       "0             [1, 1]  [True, True]            1.0  [None, None]  "
      ]
     },
     "execution_count": 77,
     "metadata": {},
     "output_type": "execute_result"
    }
   ],
   "source": [
    "reviews.head(1)"
   ]
  },
  {
   "cell_type": "code",
   "execution_count": 78,
   "metadata": {},
   "outputs": [],
   "source": [
    "date_reviews = reviews.explode('date')"
   ]
  },
  {
   "cell_type": "code",
   "execution_count": 79,
   "metadata": {},
   "outputs": [
    {
     "data": {
      "text/plain": [
       "dtype('O')"
      ]
     },
     "execution_count": 79,
     "metadata": {},
     "output_type": "execute_result"
    }
   ],
   "source": [
    "date_reviews['date'][0].dtype"
   ]
  },
  {
   "cell_type": "code",
   "execution_count": 80,
   "metadata": {},
   "outputs": [],
   "source": [
    "def countreviews(start_date: str, end_date: str):\n",
    "    start_date = datetime.strptime(start_date, \"%Y-%m-%d\").date()\n",
    "    end_date = datetime.strptime(end_date, \"%Y-%m-%d\").date()\n",
    "\n",
    "    filtered_dates = date_reviews[(date_reviews['date'] >= start_date) & (date_reviews['date'] <= end_date)]\n",
    "    unique_user_count = filtered_dates['user_id'].nunique()\n",
    "    unique_pct_recommend = filtered_dates['pct_recommend'].mean()\n",
    "\n",
    "    result_dict = {\n",
    "                    'start_date': start_date,\n",
    "                    'end_date': end_date,\n",
    "                    'users_count': unique_user_count,\n",
    "                    'recommend_pct': unique_pct_recommend\n",
    "    }\n",
    "\n",
    "    return result_dict"
   ]
  },
  {
   "cell_type": "code",
   "execution_count": 81,
   "metadata": {},
   "outputs": [
    {
     "data": {
      "text/plain": [
       "{'start_date': datetime.date(2011, 1, 1),\n",
       " 'end_date': datetime.date(2011, 2, 1),\n",
       " 'users_count': 2,\n",
       " 'recommend_pct': 1.0}"
      ]
     },
     "execution_count": 81,
     "metadata": {},
     "output_type": "execute_result"
    }
   ],
   "source": [
    "countreviews(\"2011-01-01\", \"2011-02-01\")"
   ]
  },
  {
   "cell_type": "code",
   "execution_count": 82,
   "metadata": {},
   "outputs": [],
   "source": [
    "date_reviews.to_csv('./API_csv/countreviews_date_reviews.csv')"
   ]
  },
  {
   "cell_type": "markdown",
   "metadata": {},
   "source": [
    "## def genre"
   ]
  },
  {
   "cell_type": "code",
   "execution_count": 83,
   "metadata": {},
   "outputs": [],
   "source": [
    "def extract_playtime_forever(item_list):\n",
    "    playtime_forever_list = []\n",
    "\n",
    "    for item_dic in item_list:\n",
    "        if isinstance(item_dic, dict) and 'playtime_forever' in item_dic:\n",
    "            playtime_forever_list.append(item_dic['playtime_forever'])\n",
    "        else:\n",
    "            playtime_forever_list.append(None)\n",
    "\n",
    "    return playtime_forever_list\n",
    "\n",
    "items['playtime_forever'] = items['items'].apply(extract_playtime_forever)"
   ]
  },
  {
   "cell_type": "code",
   "execution_count": 84,
   "metadata": {},
   "outputs": [
    {
     "data": {
      "text/html": [
       "<div>\n",
       "<style scoped>\n",
       "    .dataframe tbody tr th:only-of-type {\n",
       "        vertical-align: middle;\n",
       "    }\n",
       "\n",
       "    .dataframe tbody tr th {\n",
       "        vertical-align: top;\n",
       "    }\n",
       "\n",
       "    .dataframe thead th {\n",
       "        text-align: right;\n",
       "    }\n",
       "</style>\n",
       "<table border=\"1\" class=\"dataframe\">\n",
       "  <thead>\n",
       "    <tr style=\"text-align: right;\">\n",
       "      <th></th>\n",
       "      <th>user_id</th>\n",
       "      <th>items_count</th>\n",
       "      <th>steam_id</th>\n",
       "      <th>user_url</th>\n",
       "      <th>items</th>\n",
       "      <th>item_id</th>\n",
       "      <th>playtime_forever</th>\n",
       "    </tr>\n",
       "  </thead>\n",
       "  <tbody>\n",
       "    <tr>\n",
       "      <th>0</th>\n",
       "      <td>WeiEDKrSat</td>\n",
       "      <td>28</td>\n",
       "      <td>76561198041660154</td>\n",
       "      <td>http://steamcommunity.com/id/WeiEDKrSat</td>\n",
       "      <td>[{'item_id': '10', 'item_name': 'Counter-Strik...</td>\n",
       "      <td>[10, 80, 100, 60, 70, 4000, 220, 340, 550, 223...</td>\n",
       "      <td>[328, 4, 42, 40, 1, 16441, 30, 0, 2142, 0, 134...</td>\n",
       "    </tr>\n",
       "    <tr>\n",
       "      <th>1</th>\n",
       "      <td>Leaf_Light_Moscow</td>\n",
       "      <td>5</td>\n",
       "      <td>76561198305694024</td>\n",
       "      <td>http://steamcommunity.com/id/Leaf_Light_Moscow</td>\n",
       "      <td>[{'item_id': '4000', 'item_name': 'Garry's Mod...</td>\n",
       "      <td>[4000, 221100, 304930, 323370, 346120]</td>\n",
       "      <td>[4548, 48, 1736, 390, 3]</td>\n",
       "    </tr>\n",
       "    <tr>\n",
       "      <th>2</th>\n",
       "      <td>76561198061252210</td>\n",
       "      <td>25</td>\n",
       "      <td>76561198061252210</td>\n",
       "      <td>http://steamcommunity.com/profiles/76561198061...</td>\n",
       "      <td>[{'item_id': '220', 'item_name': 'Half-Life 2'...</td>\n",
       "      <td>[220, 340, 4000, 12210, 550, 223530, 105600, 7...</td>\n",
       "      <td>[1250, 0, 10836, 17593, 7940, 0, 425, 41281, 2...</td>\n",
       "    </tr>\n",
       "    <tr>\n",
       "      <th>3</th>\n",
       "      <td>Derp-e</td>\n",
       "      <td>18</td>\n",
       "      <td>76561198045022050</td>\n",
       "      <td>http://steamcommunity.com/id/Derp-e</td>\n",
       "      <td>[{'item_id': '4000', 'item_name': 'Garry's Mod...</td>\n",
       "      <td>[4000, 1250, 35420, 8980, 12210, 12220, 31280,...</td>\n",
       "      <td>[174, 247, 0, 2155, 199, 0, 403, 77846, 29396,...</td>\n",
       "    </tr>\n",
       "    <tr>\n",
       "      <th>4</th>\n",
       "      <td>sandwiches1</td>\n",
       "      <td>172</td>\n",
       "      <td>76561198052850911</td>\n",
       "      <td>http://steamcommunity.com/id/sandwiches1</td>\n",
       "      <td>[{'item_id': '2400', 'item_name': 'The Ship', ...</td>\n",
       "      <td>[2400, 2420, 2430, 3320, 240, 4000, 8000, 4560...</td>\n",
       "      <td>[374, 0, 0, 639, 95, 4745, 0, 0, 0, 8, 0, 209,...</td>\n",
       "    </tr>\n",
       "  </tbody>\n",
       "</table>\n",
       "</div>"
      ],
      "text/plain": [
       "             user_id  items_count           steam_id  \\\n",
       "0         WeiEDKrSat           28  76561198041660154   \n",
       "1  Leaf_Light_Moscow            5  76561198305694024   \n",
       "2  76561198061252210           25  76561198061252210   \n",
       "3             Derp-e           18  76561198045022050   \n",
       "4        sandwiches1          172  76561198052850911   \n",
       "\n",
       "                                            user_url  \\\n",
       "0            http://steamcommunity.com/id/WeiEDKrSat   \n",
       "1     http://steamcommunity.com/id/Leaf_Light_Moscow   \n",
       "2  http://steamcommunity.com/profiles/76561198061...   \n",
       "3                http://steamcommunity.com/id/Derp-e   \n",
       "4           http://steamcommunity.com/id/sandwiches1   \n",
       "\n",
       "                                               items  \\\n",
       "0  [{'item_id': '10', 'item_name': 'Counter-Strik...   \n",
       "1  [{'item_id': '4000', 'item_name': 'Garry's Mod...   \n",
       "2  [{'item_id': '220', 'item_name': 'Half-Life 2'...   \n",
       "3  [{'item_id': '4000', 'item_name': 'Garry's Mod...   \n",
       "4  [{'item_id': '2400', 'item_name': 'The Ship', ...   \n",
       "\n",
       "                                             item_id  \\\n",
       "0  [10, 80, 100, 60, 70, 4000, 220, 340, 550, 223...   \n",
       "1             [4000, 221100, 304930, 323370, 346120]   \n",
       "2  [220, 340, 4000, 12210, 550, 223530, 105600, 7...   \n",
       "3  [4000, 1250, 35420, 8980, 12210, 12220, 31280,...   \n",
       "4  [2400, 2420, 2430, 3320, 240, 4000, 8000, 4560...   \n",
       "\n",
       "                                    playtime_forever  \n",
       "0  [328, 4, 42, 40, 1, 16441, 30, 0, 2142, 0, 134...  \n",
       "1                           [4548, 48, 1736, 390, 3]  \n",
       "2  [1250, 0, 10836, 17593, 7940, 0, 425, 41281, 2...  \n",
       "3  [174, 247, 0, 2155, 199, 0, 403, 77846, 29396,...  \n",
       "4  [374, 0, 0, 639, 95, 4745, 0, 0, 0, 8, 0, 209,...  "
      ]
     },
     "execution_count": 84,
     "metadata": {},
     "output_type": "execute_result"
    }
   ],
   "source": [
    "items.head()"
   ]
  },
  {
   "cell_type": "code",
   "execution_count": 85,
   "metadata": {},
   "outputs": [
    {
     "data": {
      "text/html": [
       "<div>\n",
       "<style scoped>\n",
       "    .dataframe tbody tr th:only-of-type {\n",
       "        vertical-align: middle;\n",
       "    }\n",
       "\n",
       "    .dataframe tbody tr th {\n",
       "        vertical-align: top;\n",
       "    }\n",
       "\n",
       "    .dataframe thead th {\n",
       "        text-align: right;\n",
       "    }\n",
       "</style>\n",
       "<table border=\"1\" class=\"dataframe\">\n",
       "  <thead>\n",
       "    <tr style=\"text-align: right;\">\n",
       "      <th></th>\n",
       "      <th>publisher</th>\n",
       "      <th>genres</th>\n",
       "      <th>app_name</th>\n",
       "      <th>title</th>\n",
       "      <th>url</th>\n",
       "      <th>release_date</th>\n",
       "      <th>tags</th>\n",
       "      <th>reviews_url</th>\n",
       "      <th>specs</th>\n",
       "      <th>price</th>\n",
       "      <th>early_access</th>\n",
       "      <th>id</th>\n",
       "      <th>developer</th>\n",
       "    </tr>\n",
       "  </thead>\n",
       "  <tbody>\n",
       "    <tr>\n",
       "      <th>0</th>\n",
       "      <td>Kotoshiro</td>\n",
       "      <td>['Action', 'Casual', 'Indie', 'Simulation', 'S...</td>\n",
       "      <td>Lost Summoner Kitty</td>\n",
       "      <td>Lost Summoner Kitty</td>\n",
       "      <td>http://store.steampowered.com/app/761140/Lost_...</td>\n",
       "      <td>2018-01-04</td>\n",
       "      <td>['Strategy', 'Action', 'Indie', 'Casual', 'Sim...</td>\n",
       "      <td>http://steamcommunity.com/app/761140/reviews/?...</td>\n",
       "      <td>['Single-player']</td>\n",
       "      <td>4.99</td>\n",
       "      <td>0.0</td>\n",
       "      <td>761140.0</td>\n",
       "      <td>Kotoshiro</td>\n",
       "    </tr>\n",
       "    <tr>\n",
       "      <th>1</th>\n",
       "      <td>Making Fun, Inc.</td>\n",
       "      <td>['Free to Play', 'Indie', 'RPG', 'Strategy']</td>\n",
       "      <td>Ironbound</td>\n",
       "      <td>Ironbound</td>\n",
       "      <td>http://store.steampowered.com/app/643980/Ironb...</td>\n",
       "      <td>2018-01-04</td>\n",
       "      <td>['Free to Play', 'Strategy', 'Indie', 'RPG', '...</td>\n",
       "      <td>http://steamcommunity.com/app/643980/reviews/?...</td>\n",
       "      <td>['Single-player', 'Multi-player', 'Online Mult...</td>\n",
       "      <td>Free To Play</td>\n",
       "      <td>0.0</td>\n",
       "      <td>643980.0</td>\n",
       "      <td>Secret Level SRL</td>\n",
       "    </tr>\n",
       "    <tr>\n",
       "      <th>2</th>\n",
       "      <td>Poolians.com</td>\n",
       "      <td>['Casual', 'Free to Play', 'Indie', 'Simulatio...</td>\n",
       "      <td>Real Pool 3D - Poolians</td>\n",
       "      <td>Real Pool 3D - Poolians</td>\n",
       "      <td>http://store.steampowered.com/app/670290/Real_...</td>\n",
       "      <td>2017-07-24</td>\n",
       "      <td>['Free to Play', 'Simulation', 'Sports', 'Casu...</td>\n",
       "      <td>http://steamcommunity.com/app/670290/reviews/?...</td>\n",
       "      <td>['Single-player', 'Multi-player', 'Online Mult...</td>\n",
       "      <td>Free to Play</td>\n",
       "      <td>0.0</td>\n",
       "      <td>670290.0</td>\n",
       "      <td>Poolians.com</td>\n",
       "    </tr>\n",
       "    <tr>\n",
       "      <th>3</th>\n",
       "      <td>彼岸领域</td>\n",
       "      <td>['Action', 'Adventure', 'Casual']</td>\n",
       "      <td>弹炸人2222</td>\n",
       "      <td>弹炸人2222</td>\n",
       "      <td>http://store.steampowered.com/app/767400/2222/</td>\n",
       "      <td>2017-12-07</td>\n",
       "      <td>['Action', 'Adventure', 'Casual']</td>\n",
       "      <td>http://steamcommunity.com/app/767400/reviews/?...</td>\n",
       "      <td>['Single-player']</td>\n",
       "      <td>0.99</td>\n",
       "      <td>0.0</td>\n",
       "      <td>767400.0</td>\n",
       "      <td>彼岸领域</td>\n",
       "    </tr>\n",
       "    <tr>\n",
       "      <th>4</th>\n",
       "      <td>No Info Available</td>\n",
       "      <td>['No Info Available']</td>\n",
       "      <td>Log Challenge</td>\n",
       "      <td>Log Challenge</td>\n",
       "      <td>http://store.steampowered.com/app/773570/Log_C...</td>\n",
       "      <td>No Info Available</td>\n",
       "      <td>['Action', 'Indie', 'Casual', 'Sports']</td>\n",
       "      <td>http://steamcommunity.com/app/773570/reviews/?...</td>\n",
       "      <td>['Single-player', 'Full controller support', '...</td>\n",
       "      <td>2.99</td>\n",
       "      <td>0.0</td>\n",
       "      <td>773570.0</td>\n",
       "      <td>No Info Available</td>\n",
       "    </tr>\n",
       "  </tbody>\n",
       "</table>\n",
       "</div>"
      ],
      "text/plain": [
       "           publisher                                             genres  \\\n",
       "0          Kotoshiro  ['Action', 'Casual', 'Indie', 'Simulation', 'S...   \n",
       "1   Making Fun, Inc.       ['Free to Play', 'Indie', 'RPG', 'Strategy']   \n",
       "2       Poolians.com  ['Casual', 'Free to Play', 'Indie', 'Simulatio...   \n",
       "3               彼岸领域                  ['Action', 'Adventure', 'Casual']   \n",
       "4  No Info Available                              ['No Info Available']   \n",
       "\n",
       "                  app_name                    title  \\\n",
       "0      Lost Summoner Kitty      Lost Summoner Kitty   \n",
       "1                Ironbound                Ironbound   \n",
       "2  Real Pool 3D - Poolians  Real Pool 3D - Poolians   \n",
       "3                  弹炸人2222                  弹炸人2222   \n",
       "4            Log Challenge            Log Challenge   \n",
       "\n",
       "                                                 url       release_date  \\\n",
       "0  http://store.steampowered.com/app/761140/Lost_...         2018-01-04   \n",
       "1  http://store.steampowered.com/app/643980/Ironb...         2018-01-04   \n",
       "2  http://store.steampowered.com/app/670290/Real_...         2017-07-24   \n",
       "3     http://store.steampowered.com/app/767400/2222/         2017-12-07   \n",
       "4  http://store.steampowered.com/app/773570/Log_C...  No Info Available   \n",
       "\n",
       "                                                tags  \\\n",
       "0  ['Strategy', 'Action', 'Indie', 'Casual', 'Sim...   \n",
       "1  ['Free to Play', 'Strategy', 'Indie', 'RPG', '...   \n",
       "2  ['Free to Play', 'Simulation', 'Sports', 'Casu...   \n",
       "3                  ['Action', 'Adventure', 'Casual']   \n",
       "4            ['Action', 'Indie', 'Casual', 'Sports']   \n",
       "\n",
       "                                         reviews_url  \\\n",
       "0  http://steamcommunity.com/app/761140/reviews/?...   \n",
       "1  http://steamcommunity.com/app/643980/reviews/?...   \n",
       "2  http://steamcommunity.com/app/670290/reviews/?...   \n",
       "3  http://steamcommunity.com/app/767400/reviews/?...   \n",
       "4  http://steamcommunity.com/app/773570/reviews/?...   \n",
       "\n",
       "                                               specs         price  \\\n",
       "0                                  ['Single-player']          4.99   \n",
       "1  ['Single-player', 'Multi-player', 'Online Mult...  Free To Play   \n",
       "2  ['Single-player', 'Multi-player', 'Online Mult...  Free to Play   \n",
       "3                                  ['Single-player']          0.99   \n",
       "4  ['Single-player', 'Full controller support', '...          2.99   \n",
       "\n",
       "   early_access        id          developer  \n",
       "0           0.0  761140.0          Kotoshiro  \n",
       "1           0.0  643980.0   Secret Level SRL  \n",
       "2           0.0  670290.0       Poolians.com  \n",
       "3           0.0  767400.0               彼岸领域  \n",
       "4           0.0  773570.0  No Info Available  "
      ]
     },
     "execution_count": 85,
     "metadata": {},
     "output_type": "execute_result"
    }
   ],
   "source": [
    "games.head()"
   ]
  },
  {
   "cell_type": "code",
   "execution_count": 86,
   "metadata": {},
   "outputs": [],
   "source": [
    "genre_ranking = pd.DataFrame()\n",
    "games = games.dropna()\n",
    "items_playtime = items[['item_id', 'playtime_forever']].copy()\n",
    "items_playtime = items_playtime.explode(['item_id', 'playtime_forever'])\n",
    "items_playtime = items_playtime.dropna()\n",
    "items_playtime['item_id'] = items_playtime['item_id'].astype(int)"
   ]
  },
  {
   "cell_type": "code",
   "execution_count": 87,
   "metadata": {},
   "outputs": [
    {
     "data": {
      "text/html": [
       "<div>\n",
       "<style scoped>\n",
       "    .dataframe tbody tr th:only-of-type {\n",
       "        vertical-align: middle;\n",
       "    }\n",
       "\n",
       "    .dataframe tbody tr th {\n",
       "        vertical-align: top;\n",
       "    }\n",
       "\n",
       "    .dataframe thead th {\n",
       "        text-align: right;\n",
       "    }\n",
       "</style>\n",
       "<table border=\"1\" class=\"dataframe\">\n",
       "  <thead>\n",
       "    <tr style=\"text-align: right;\">\n",
       "      <th></th>\n",
       "      <th>item_id</th>\n",
       "      <th>playtime_forever</th>\n",
       "    </tr>\n",
       "  </thead>\n",
       "  <tbody>\n",
       "    <tr>\n",
       "      <th>0</th>\n",
       "      <td>10</td>\n",
       "      <td>328</td>\n",
       "    </tr>\n",
       "    <tr>\n",
       "      <th>0</th>\n",
       "      <td>80</td>\n",
       "      <td>4</td>\n",
       "    </tr>\n",
       "    <tr>\n",
       "      <th>0</th>\n",
       "      <td>100</td>\n",
       "      <td>42</td>\n",
       "    </tr>\n",
       "    <tr>\n",
       "      <th>0</th>\n",
       "      <td>60</td>\n",
       "      <td>40</td>\n",
       "    </tr>\n",
       "    <tr>\n",
       "      <th>0</th>\n",
       "      <td>70</td>\n",
       "      <td>1</td>\n",
       "    </tr>\n",
       "  </tbody>\n",
       "</table>\n",
       "</div>"
      ],
      "text/plain": [
       "   item_id playtime_forever\n",
       "0       10              328\n",
       "0       80                4\n",
       "0      100               42\n",
       "0       60               40\n",
       "0       70                1"
      ]
     },
     "execution_count": 87,
     "metadata": {},
     "output_type": "execute_result"
    }
   ],
   "source": [
    "items_playtime.head()"
   ]
  },
  {
   "cell_type": "code",
   "execution_count": 88,
   "metadata": {},
   "outputs": [],
   "source": [
    "merged_data = pd.merge(games[['genres', 'id']], items_playtime, how='inner', left_on='id', right_on='item_id')"
   ]
  },
  {
   "cell_type": "code",
   "execution_count": 89,
   "metadata": {},
   "outputs": [],
   "source": [
    "merged_data['genres'] = merged_data['genres'].apply(ast.literal_eval)"
   ]
  },
  {
   "cell_type": "code",
   "execution_count": 90,
   "metadata": {},
   "outputs": [],
   "source": [
    "merged_data = merged_data.explode('genres')"
   ]
  },
  {
   "cell_type": "code",
   "execution_count": 91,
   "metadata": {},
   "outputs": [],
   "source": [
    "merged_data = merged_data[['genres', 'playtime_forever']]\n",
    "genre_rank = merged_data.groupby('genres')['playtime_forever'].sum().reset_index()\n",
    "genre_rank['playtime_rank'] = genre_rank['playtime_forever'].rank(ascending=False).astype(int)\n",
    "genre_rank = genre_rank.sort_values(by = 'playtime_rank', ascending=True)"
   ]
  },
  {
   "cell_type": "code",
   "execution_count": 92,
   "metadata": {},
   "outputs": [
    {
     "data": {
      "text/html": [
       "<div>\n",
       "<style scoped>\n",
       "    .dataframe tbody tr th:only-of-type {\n",
       "        vertical-align: middle;\n",
       "    }\n",
       "\n",
       "    .dataframe tbody tr th {\n",
       "        vertical-align: top;\n",
       "    }\n",
       "\n",
       "    .dataframe thead th {\n",
       "        text-align: right;\n",
       "    }\n",
       "</style>\n",
       "<table border=\"1\" class=\"dataframe\">\n",
       "  <thead>\n",
       "    <tr style=\"text-align: right;\">\n",
       "      <th></th>\n",
       "      <th>genres</th>\n",
       "      <th>playtime_forever</th>\n",
       "      <th>playtime_rank</th>\n",
       "    </tr>\n",
       "  </thead>\n",
       "  <tbody>\n",
       "    <tr>\n",
       "      <th>0</th>\n",
       "      <td>Action</td>\n",
       "      <td>147426176</td>\n",
       "      <td>1</td>\n",
       "    </tr>\n",
       "    <tr>\n",
       "      <th>9</th>\n",
       "      <td>Indie</td>\n",
       "      <td>77278723</td>\n",
       "      <td>2</td>\n",
       "    </tr>\n",
       "    <tr>\n",
       "      <th>13</th>\n",
       "      <td>RPG</td>\n",
       "      <td>48017415</td>\n",
       "      <td>3</td>\n",
       "    </tr>\n",
       "    <tr>\n",
       "      <th>15</th>\n",
       "      <td>Simulation</td>\n",
       "      <td>46247561</td>\n",
       "      <td>4</td>\n",
       "    </tr>\n",
       "    <tr>\n",
       "      <th>1</th>\n",
       "      <td>Adventure</td>\n",
       "      <td>43682074</td>\n",
       "      <td>5</td>\n",
       "    </tr>\n",
       "  </tbody>\n",
       "</table>\n",
       "</div>"
      ],
      "text/plain": [
       "        genres playtime_forever  playtime_rank\n",
       "0       Action        147426176              1\n",
       "9        Indie         77278723              2\n",
       "13         RPG         48017415              3\n",
       "15  Simulation         46247561              4\n",
       "1    Adventure         43682074              5"
      ]
     },
     "execution_count": 92,
     "metadata": {},
     "output_type": "execute_result"
    }
   ],
   "source": [
    "genre_rank.head()"
   ]
  },
  {
   "cell_type": "code",
   "execution_count": 93,
   "metadata": {},
   "outputs": [],
   "source": [
    "def genre(genre:str):\n",
    "    row = genre_rank[genre_rank['genres'].str.contains(genre, case=False, na=False)]\n",
    "    \n",
    "    if row.empty:\n",
    "        return \"Género no encontrado\"\n",
    "    \n",
    "    playtime_rank = row.iloc[0]['playtime_rank']\n",
    "\n",
    "    result_dict = {\n",
    "                    'genre': genre,\n",
    "                    'playtime_rank': playtime_rank\n",
    "    }\n",
    "    \n",
    "    return result_dict"
   ]
  },
  {
   "cell_type": "code",
   "execution_count": 94,
   "metadata": {},
   "outputs": [
    {
     "data": {
      "text/plain": [
       "{'genre': 'Simulation', 'playtime_rank': 4}"
      ]
     },
     "execution_count": 94,
     "metadata": {},
     "output_type": "execute_result"
    }
   ],
   "source": [
    "genre('Simulation')"
   ]
  },
  {
   "cell_type": "code",
   "execution_count": 95,
   "metadata": {},
   "outputs": [],
   "source": [
    "genre_rank.to_csv('./API_csv/genre_genre_rank.csv')"
   ]
  },
  {
   "cell_type": "markdown",
   "metadata": {},
   "source": [
    "## def userforgenre"
   ]
  },
  {
   "cell_type": "code",
   "execution_count": 96,
   "metadata": {},
   "outputs": [
    {
     "data": {
      "text/html": [
       "<div>\n",
       "<style scoped>\n",
       "    .dataframe tbody tr th:only-of-type {\n",
       "        vertical-align: middle;\n",
       "    }\n",
       "\n",
       "    .dataframe tbody tr th {\n",
       "        vertical-align: top;\n",
       "    }\n",
       "\n",
       "    .dataframe thead th {\n",
       "        text-align: right;\n",
       "    }\n",
       "</style>\n",
       "<table border=\"1\" class=\"dataframe\">\n",
       "  <thead>\n",
       "    <tr style=\"text-align: right;\">\n",
       "      <th></th>\n",
       "      <th>user_id</th>\n",
       "      <th>items_count</th>\n",
       "      <th>steam_id</th>\n",
       "      <th>user_url</th>\n",
       "      <th>items</th>\n",
       "      <th>item_id</th>\n",
       "      <th>playtime_forever</th>\n",
       "    </tr>\n",
       "  </thead>\n",
       "  <tbody>\n",
       "    <tr>\n",
       "      <th>0</th>\n",
       "      <td>WeiEDKrSat</td>\n",
       "      <td>28</td>\n",
       "      <td>76561198041660154</td>\n",
       "      <td>http://steamcommunity.com/id/WeiEDKrSat</td>\n",
       "      <td>[{'item_id': '10', 'item_name': 'Counter-Strik...</td>\n",
       "      <td>[10, 80, 100, 60, 70, 4000, 220, 340, 550, 223...</td>\n",
       "      <td>[328, 4, 42, 40, 1, 16441, 30, 0, 2142, 0, 134...</td>\n",
       "    </tr>\n",
       "  </tbody>\n",
       "</table>\n",
       "</div>"
      ],
      "text/plain": [
       "      user_id  items_count           steam_id  \\\n",
       "0  WeiEDKrSat           28  76561198041660154   \n",
       "\n",
       "                                  user_url  \\\n",
       "0  http://steamcommunity.com/id/WeiEDKrSat   \n",
       "\n",
       "                                               items  \\\n",
       "0  [{'item_id': '10', 'item_name': 'Counter-Strik...   \n",
       "\n",
       "                                             item_id  \\\n",
       "0  [10, 80, 100, 60, 70, 4000, 220, 340, 550, 223...   \n",
       "\n",
       "                                    playtime_forever  \n",
       "0  [328, 4, 42, 40, 1, 16441, 30, 0, 2142, 0, 134...  "
      ]
     },
     "execution_count": 96,
     "metadata": {},
     "output_type": "execute_result"
    }
   ],
   "source": [
    "items.head(1)"
   ]
  },
  {
   "cell_type": "code",
   "execution_count": 97,
   "metadata": {},
   "outputs": [],
   "source": [
    "items_user_playtime = items[['item_id', 'playtime_forever', 'user_id', 'user_url']].copy()\n",
    "items_user_playtime = items_user_playtime.explode(['item_id', 'playtime_forever'])\n",
    "items_user_playtime = items_user_playtime.dropna()\n",
    "items_user_playtime['item_id'] = items_playtime['item_id'].astype(int)"
   ]
  },
  {
   "cell_type": "code",
   "execution_count": 99,
   "metadata": {},
   "outputs": [],
   "source": [
    "id_genres = games[['id', 'genres']].copy()\n",
    "id_genres['genres'] = id_genres['genres'].apply(ast.literal_eval)\n",
    "id_genres = id_genres.explode('genres')\n",
    "id_genres['id'] = id_genres['id'].astype(int)"
   ]
  },
  {
   "cell_type": "code",
   "execution_count": 100,
   "metadata": {},
   "outputs": [
    {
     "data": {
      "text/html": [
       "<div>\n",
       "<style scoped>\n",
       "    .dataframe tbody tr th:only-of-type {\n",
       "        vertical-align: middle;\n",
       "    }\n",
       "\n",
       "    .dataframe tbody tr th {\n",
       "        vertical-align: top;\n",
       "    }\n",
       "\n",
       "    .dataframe thead th {\n",
       "        text-align: right;\n",
       "    }\n",
       "</style>\n",
       "<table border=\"1\" class=\"dataframe\">\n",
       "  <thead>\n",
       "    <tr style=\"text-align: right;\">\n",
       "      <th></th>\n",
       "      <th>id</th>\n",
       "      <th>genres</th>\n",
       "    </tr>\n",
       "  </thead>\n",
       "  <tbody>\n",
       "    <tr>\n",
       "      <th>0</th>\n",
       "      <td>761140</td>\n",
       "      <td>Action</td>\n",
       "    </tr>\n",
       "    <tr>\n",
       "      <th>0</th>\n",
       "      <td>761140</td>\n",
       "      <td>Casual</td>\n",
       "    </tr>\n",
       "    <tr>\n",
       "      <th>0</th>\n",
       "      <td>761140</td>\n",
       "      <td>Indie</td>\n",
       "    </tr>\n",
       "    <tr>\n",
       "      <th>0</th>\n",
       "      <td>761140</td>\n",
       "      <td>Simulation</td>\n",
       "    </tr>\n",
       "    <tr>\n",
       "      <th>0</th>\n",
       "      <td>761140</td>\n",
       "      <td>Strategy</td>\n",
       "    </tr>\n",
       "  </tbody>\n",
       "</table>\n",
       "</div>"
      ],
      "text/plain": [
       "       id      genres\n",
       "0  761140      Action\n",
       "0  761140      Casual\n",
       "0  761140       Indie\n",
       "0  761140  Simulation\n",
       "0  761140    Strategy"
      ]
     },
     "execution_count": 100,
     "metadata": {},
     "output_type": "execute_result"
    }
   ],
   "source": [
    "id_genres.head()"
   ]
  },
  {
   "cell_type": "code",
   "execution_count": 101,
   "metadata": {},
   "outputs": [],
   "source": [
    "merged_genres_playtime = pd.merge(id_genres, items_user_playtime, how='inner', left_on='id', right_on='item_id')"
   ]
  },
  {
   "cell_type": "code",
   "execution_count": 102,
   "metadata": {},
   "outputs": [
    {
     "data": {
      "text/html": [
       "<div>\n",
       "<style scoped>\n",
       "    .dataframe tbody tr th:only-of-type {\n",
       "        vertical-align: middle;\n",
       "    }\n",
       "\n",
       "    .dataframe tbody tr th {\n",
       "        vertical-align: top;\n",
       "    }\n",
       "\n",
       "    .dataframe thead th {\n",
       "        text-align: right;\n",
       "    }\n",
       "</style>\n",
       "<table border=\"1\" class=\"dataframe\">\n",
       "  <thead>\n",
       "    <tr style=\"text-align: right;\">\n",
       "      <th></th>\n",
       "      <th>id</th>\n",
       "      <th>genres</th>\n",
       "      <th>item_id</th>\n",
       "      <th>playtime_forever</th>\n",
       "      <th>user_id</th>\n",
       "      <th>user_url</th>\n",
       "    </tr>\n",
       "  </thead>\n",
       "  <tbody>\n",
       "    <tr>\n",
       "      <th>0</th>\n",
       "      <td>282010</td>\n",
       "      <td>Action</td>\n",
       "      <td>282010</td>\n",
       "      <td>232</td>\n",
       "      <td>phrostb</td>\n",
       "      <td>http://steamcommunity.com/id/phrostb</td>\n",
       "    </tr>\n",
       "    <tr>\n",
       "      <th>1</th>\n",
       "      <td>282010</td>\n",
       "      <td>Action</td>\n",
       "      <td>282010</td>\n",
       "      <td>16</td>\n",
       "      <td>tzarius</td>\n",
       "      <td>http://steamcommunity.com/id/tzarius</td>\n",
       "    </tr>\n",
       "    <tr>\n",
       "      <th>2</th>\n",
       "      <td>282010</td>\n",
       "      <td>Action</td>\n",
       "      <td>282010</td>\n",
       "      <td>2</td>\n",
       "      <td>76561198003546877</td>\n",
       "      <td>http://steamcommunity.com/profiles/76561198003...</td>\n",
       "    </tr>\n",
       "    <tr>\n",
       "      <th>3</th>\n",
       "      <td>282010</td>\n",
       "      <td>Action</td>\n",
       "      <td>282010</td>\n",
       "      <td>102</td>\n",
       "      <td>DakiniBrave</td>\n",
       "      <td>http://steamcommunity.com/id/DakiniBrave</td>\n",
       "    </tr>\n",
       "    <tr>\n",
       "      <th>4</th>\n",
       "      <td>282010</td>\n",
       "      <td>Action</td>\n",
       "      <td>282010</td>\n",
       "      <td>19</td>\n",
       "      <td>devoid</td>\n",
       "      <td>http://steamcommunity.com/id/devoid</td>\n",
       "    </tr>\n",
       "  </tbody>\n",
       "</table>\n",
       "</div>"
      ],
      "text/plain": [
       "       id  genres  item_id playtime_forever            user_id  \\\n",
       "0  282010  Action   282010              232            phrostb   \n",
       "1  282010  Action   282010               16            tzarius   \n",
       "2  282010  Action   282010                2  76561198003546877   \n",
       "3  282010  Action   282010              102        DakiniBrave   \n",
       "4  282010  Action   282010               19             devoid   \n",
       "\n",
       "                                            user_url  \n",
       "0               http://steamcommunity.com/id/phrostb  \n",
       "1               http://steamcommunity.com/id/tzarius  \n",
       "2  http://steamcommunity.com/profiles/76561198003...  \n",
       "3           http://steamcommunity.com/id/DakiniBrave  \n",
       "4                http://steamcommunity.com/id/devoid  "
      ]
     },
     "execution_count": 102,
     "metadata": {},
     "output_type": "execute_result"
    }
   ],
   "source": [
    "merged_genres_playtime.head()"
   ]
  },
  {
   "cell_type": "code",
   "execution_count": 103,
   "metadata": {},
   "outputs": [],
   "source": [
    "playtime_rank = merged_genres_playtime.groupby(['genres', 'user_id', 'user_url'])['playtime_forever'].sum().reset_index()"
   ]
  },
  {
   "cell_type": "code",
   "execution_count": 104,
   "metadata": {},
   "outputs": [],
   "source": [
    "playtime_rank.sort_values(by=['genres', 'playtime_forever'], ascending=[True, False], inplace=True)\n",
    "playtime_rank['rank'] = playtime_rank.groupby('genres').cumcount() + 1"
   ]
  },
  {
   "cell_type": "code",
   "execution_count": 105,
   "metadata": {},
   "outputs": [
    {
     "data": {
      "text/html": [
       "<div>\n",
       "<style scoped>\n",
       "    .dataframe tbody tr th:only-of-type {\n",
       "        vertical-align: middle;\n",
       "    }\n",
       "\n",
       "    .dataframe tbody tr th {\n",
       "        vertical-align: top;\n",
       "    }\n",
       "\n",
       "    .dataframe thead th {\n",
       "        text-align: right;\n",
       "    }\n",
       "</style>\n",
       "<table border=\"1\" class=\"dataframe\">\n",
       "  <thead>\n",
       "    <tr style=\"text-align: right;\">\n",
       "      <th></th>\n",
       "      <th>genres</th>\n",
       "      <th>user_id</th>\n",
       "      <th>user_url</th>\n",
       "      <th>playtime_forever</th>\n",
       "      <th>rank</th>\n",
       "    </tr>\n",
       "  </thead>\n",
       "  <tbody>\n",
       "    <tr>\n",
       "      <th>1468</th>\n",
       "      <td>Action</td>\n",
       "      <td>SuNNZ</td>\n",
       "      <td>http://steamcommunity.com/id/SuNNZ</td>\n",
       "      <td>589348</td>\n",
       "      <td>1</td>\n",
       "    </tr>\n",
       "    <tr>\n",
       "      <th>1461</th>\n",
       "      <td>Action</td>\n",
       "      <td>Steamified</td>\n",
       "      <td>http://steamcommunity.com/id/Steamified</td>\n",
       "      <td>574446</td>\n",
       "      <td>2</td>\n",
       "    </tr>\n",
       "    <tr>\n",
       "      <th>2024</th>\n",
       "      <td>Action</td>\n",
       "      <td>phrostb</td>\n",
       "      <td>http://steamcommunity.com/id/phrostb</td>\n",
       "      <td>474268</td>\n",
       "      <td>3</td>\n",
       "    </tr>\n",
       "    <tr>\n",
       "      <th>1713</th>\n",
       "      <td>Action</td>\n",
       "      <td>de_reyals</td>\n",
       "      <td>http://steamcommunity.com/id/de_reyals</td>\n",
       "      <td>461222</td>\n",
       "      <td>4</td>\n",
       "    </tr>\n",
       "    <tr>\n",
       "      <th>775</th>\n",
       "      <td>Action</td>\n",
       "      <td>76561198086282677</td>\n",
       "      <td>http://steamcommunity.com/profiles/76561198086...</td>\n",
       "      <td>384055</td>\n",
       "      <td>5</td>\n",
       "    </tr>\n",
       "  </tbody>\n",
       "</table>\n",
       "</div>"
      ],
      "text/plain": [
       "      genres            user_id  \\\n",
       "1468  Action              SuNNZ   \n",
       "1461  Action         Steamified   \n",
       "2024  Action            phrostb   \n",
       "1713  Action          de_reyals   \n",
       "775   Action  76561198086282677   \n",
       "\n",
       "                                               user_url playtime_forever  rank  \n",
       "1468                 http://steamcommunity.com/id/SuNNZ           589348     1  \n",
       "1461            http://steamcommunity.com/id/Steamified           574446     2  \n",
       "2024               http://steamcommunity.com/id/phrostb           474268     3  \n",
       "1713             http://steamcommunity.com/id/de_reyals           461222     4  \n",
       "775   http://steamcommunity.com/profiles/76561198086...           384055     5  "
      ]
     },
     "execution_count": 105,
     "metadata": {},
     "output_type": "execute_result"
    }
   ],
   "source": [
    "playtime_rank.head()"
   ]
  },
  {
   "cell_type": "code",
   "execution_count": 106,
   "metadata": {},
   "outputs": [],
   "source": [
    "def userforgenre(genre: str):\n",
    "    genre_data = playtime_rank[playtime_rank['genres'] == genre].head(5)\n",
    "\n",
    "    result_dict = genre_data.to_dict(orient='records')\n",
    "\n",
    "    return result_dict"
   ]
  },
  {
   "cell_type": "code",
   "execution_count": 107,
   "metadata": {},
   "outputs": [
    {
     "data": {
      "text/plain": [
       "[{'genres': 'Action',\n",
       "  'user_id': 'SuNNZ',\n",
       "  'user_url': 'http://steamcommunity.com/id/SuNNZ',\n",
       "  'playtime_forever': 589348,\n",
       "  'rank': 1},\n",
       " {'genres': 'Action',\n",
       "  'user_id': 'Steamified',\n",
       "  'user_url': 'http://steamcommunity.com/id/Steamified',\n",
       "  'playtime_forever': 574446,\n",
       "  'rank': 2},\n",
       " {'genres': 'Action',\n",
       "  'user_id': 'phrostb',\n",
       "  'user_url': 'http://steamcommunity.com/id/phrostb',\n",
       "  'playtime_forever': 474268,\n",
       "  'rank': 3},\n",
       " {'genres': 'Action',\n",
       "  'user_id': 'de_reyals',\n",
       "  'user_url': 'http://steamcommunity.com/id/de_reyals',\n",
       "  'playtime_forever': 461222,\n",
       "  'rank': 4},\n",
       " {'genres': 'Action',\n",
       "  'user_id': '76561198086282677',\n",
       "  'user_url': 'http://steamcommunity.com/profiles/76561198086282677',\n",
       "  'playtime_forever': 384055,\n",
       "  'rank': 5}]"
      ]
     },
     "execution_count": 107,
     "metadata": {},
     "output_type": "execute_result"
    }
   ],
   "source": [
    "userforgenre('Action')"
   ]
  },
  {
   "cell_type": "code",
   "execution_count": 108,
   "metadata": {},
   "outputs": [],
   "source": [
    "playtime_rank.to_csv('./API_csv/userforgenre_playtime_rank.csv')"
   ]
  },
  {
   "cell_type": "markdown",
   "metadata": {},
   "source": [
    "## def developer"
   ]
  },
  {
   "cell_type": "code",
   "execution_count": 109,
   "metadata": {},
   "outputs": [],
   "source": [
    "developer_year_price = games[['release_date', 'price', 'developer']].copy()\n",
    "developer_year_price['release_date'] = developer_year_price['release_date'].str.extract(r'(\\d{4})').fillna(0).astype(int)\n",
    "non_numeric_rows = developer_year_price.loc[pd.to_numeric(developer_year_price['price'], errors='coerce').isna()]"
   ]
  },
  {
   "cell_type": "code",
   "execution_count": 110,
   "metadata": {},
   "outputs": [],
   "source": [
    "grouped_developer_no_numeric = non_numeric_rows.groupby(['developer', 'release_date'])['price'].count().reset_index()\n",
    "grouped_developer_no_numeric = grouped_developer_no_numeric.sort_values(by = ['developer', 'release_date'], ascending=True)\n",
    "\n",
    "grouped_developer = developer_year_price.groupby(['developer', 'release_date'])['price'].size().reset_index()\n",
    "grouped_developer = grouped_developer.sort_values(by = ['developer', 'release_date'], ascending=True)\n",
    "\n",
    "grouped_developer_no_numeric = grouped_developer_no_numeric.rename(columns={'price': 'count_free'})\n",
    "grouped_developer = grouped_developer.rename(columns={'price': 'total_count'})"
   ]
  },
  {
   "cell_type": "code",
   "execution_count": 111,
   "metadata": {},
   "outputs": [],
   "source": [
    "merged_developer = pd.merge(grouped_developer, grouped_developer_no_numeric, how='left', on=['developer', 'release_date'])\n",
    "merged_developer = merged_developer.rename(columns={'release_date': 'year'})\n",
    "merged_developer['pct_free'] = merged_developer['count_free'] / merged_developer['total_count']\n",
    "merged_developer['pct_free'].fillna(0, inplace=True)"
   ]
  },
  {
   "cell_type": "code",
   "execution_count": 112,
   "metadata": {},
   "outputs": [],
   "source": [
    "def developer(developer: str):\n",
    "    result_df = merged_developer[merged_developer['developer'] == developer].reset_index()\n",
    "\n",
    "    result_dict = result_df[['year', 'pct_free']].to_dict(orient='records')\n",
    "    return result_dict"
   ]
  },
  {
   "cell_type": "code",
   "execution_count": 113,
   "metadata": {},
   "outputs": [
    {
     "data": {
      "text/plain": [
       "[{'year': 1993, 'pct_free': 0.0},\n",
       " {'year': 1996, 'pct_free': 0.0},\n",
       " {'year': 1997, 'pct_free': 0.0},\n",
       " {'year': 2000, 'pct_free': 0.0}]"
      ]
     },
     "execution_count": 113,
     "metadata": {},
     "output_type": "execute_result"
    }
   ],
   "source": [
    "developer('Activision')"
   ]
  },
  {
   "cell_type": "code",
   "execution_count": 114,
   "metadata": {},
   "outputs": [],
   "source": [
    "merged_developer.to_csv('./API_csv/developer_merged_developer.csv')"
   ]
  },
  {
   "cell_type": "markdown",
   "metadata": {},
   "source": [
    "## def sentiment_analysis"
   ]
  },
  {
   "cell_type": "code",
   "execution_count": 115,
   "metadata": {},
   "outputs": [],
   "source": [
    "reviews_sentiment = reviews[['user_id','item_id', 'sentiment_analysis']].copy()\n",
    "reviews_sentiment = reviews_sentiment.explode(['item_id','sentiment_analysis'])\n",
    "reviews_sentiment['item_id'].fillna(0, inplace=True)\n",
    "reviews_sentiment['item_id'] = reviews_sentiment['item_id'].astype(int)"
   ]
  },
  {
   "cell_type": "code",
   "execution_count": 116,
   "metadata": {},
   "outputs": [],
   "source": [
    "sentiment_analysis_developer = pd.merge(reviews_sentiment, games[['id','developer', 'release_date']], how='inner', left_on='item_id', right_on='id')\n",
    "sentiment_analysis_developer['release_date'] = sentiment_analysis_developer['release_date'].str.extract(r'(\\d{4})').fillna(0).astype(int)\n",
    "sentiment_analysis_developer = sentiment_analysis_developer.drop(columns=['user_id', 'item_id', 'id'])\n",
    "sentiment_analysis_developer = sentiment_analysis_developer.sort_values(by = ['developer', 'release_date'], ascending=[True, True])"
   ]
  },
  {
   "cell_type": "code",
   "execution_count": 117,
   "metadata": {},
   "outputs": [
    {
     "data": {
      "text/html": [
       "<div>\n",
       "<style scoped>\n",
       "    .dataframe tbody tr th:only-of-type {\n",
       "        vertical-align: middle;\n",
       "    }\n",
       "\n",
       "    .dataframe tbody tr th {\n",
       "        vertical-align: top;\n",
       "    }\n",
       "\n",
       "    .dataframe thead th {\n",
       "        text-align: right;\n",
       "    }\n",
       "</style>\n",
       "<table border=\"1\" class=\"dataframe\">\n",
       "  <thead>\n",
       "    <tr style=\"text-align: right;\">\n",
       "      <th></th>\n",
       "      <th>sentiment_analysis</th>\n",
       "      <th>developer</th>\n",
       "      <th>release_date</th>\n",
       "    </tr>\n",
       "  </thead>\n",
       "  <tbody>\n",
       "    <tr>\n",
       "      <th>4674</th>\n",
       "      <td>1</td>\n",
       "      <td>11 bit studios</td>\n",
       "      <td>2011</td>\n",
       "    </tr>\n",
       "    <tr>\n",
       "      <th>4353</th>\n",
       "      <td>0</td>\n",
       "      <td>11 bit studios</td>\n",
       "      <td>2014</td>\n",
       "    </tr>\n",
       "    <tr>\n",
       "      <th>4354</th>\n",
       "      <td>1</td>\n",
       "      <td>11 bit studios</td>\n",
       "      <td>2014</td>\n",
       "    </tr>\n",
       "    <tr>\n",
       "      <th>4355</th>\n",
       "      <td>2</td>\n",
       "      <td>11 bit studios</td>\n",
       "      <td>2014</td>\n",
       "    </tr>\n",
       "    <tr>\n",
       "      <th>4582</th>\n",
       "      <td>2</td>\n",
       "      <td>1C Company</td>\n",
       "      <td>2008</td>\n",
       "    </tr>\n",
       "  </tbody>\n",
       "</table>\n",
       "</div>"
      ],
      "text/plain": [
       "     sentiment_analysis       developer  release_date\n",
       "4674                  1  11 bit studios          2011\n",
       "4353                  0  11 bit studios          2014\n",
       "4354                  1  11 bit studios          2014\n",
       "4355                  2  11 bit studios          2014\n",
       "4582                  2      1C Company          2008"
      ]
     },
     "execution_count": 117,
     "metadata": {},
     "output_type": "execute_result"
    }
   ],
   "source": [
    "sentiment_analysis_developer.head()"
   ]
  },
  {
   "cell_type": "code",
   "execution_count": 118,
   "metadata": {},
   "outputs": [],
   "source": [
    "def sentiment_analysis(year: int):\n",
    "    \n",
    "    year_df = sentiment_analysis_developer[sentiment_analysis_developer['release_date'] == year]\n",
    "    \n",
    "    counts = year_df['sentiment_analysis'].value_counts().to_dict()\n",
    "    \n",
    "    for sentiment in [0, 1, 2]:\n",
    "        if sentiment not in counts:\n",
    "            counts[sentiment] = 0\n",
    "    \n",
    "    sentiment_dict = {\n",
    "        'Negative': counts['0'],\n",
    "        'Neutral': counts['1'],\n",
    "        'Positive': counts['2']\n",
    "    }\n",
    "    \n",
    "    return sentiment_dict"
   ]
  },
  {
   "cell_type": "code",
   "execution_count": 119,
   "metadata": {},
   "outputs": [
    {
     "data": {
      "text/plain": [
       "{'Negative': 50, 'Neutral': 158, 'Positive': 154}"
      ]
     },
     "execution_count": 119,
     "metadata": {},
     "output_type": "execute_result"
    }
   ],
   "source": [
    "sentiment_analysis(2011)"
   ]
  },
  {
   "cell_type": "code",
   "execution_count": 120,
   "metadata": {},
   "outputs": [],
   "source": [
    "sentiment_analysis_developer.to_csv('./API_csv/sentiment_analysis_sentiment_analysis_developer.csv')"
   ]
  }
 ],
 "metadata": {
  "kernelspec": {
   "display_name": "Python 3",
   "language": "python",
   "name": "python3"
  },
  "language_info": {
   "codemirror_mode": {
    "name": "ipython",
    "version": 3
   },
   "file_extension": ".py",
   "mimetype": "text/x-python",
   "name": "python",
   "nbconvert_exporter": "python",
   "pygments_lexer": "ipython3",
   "version": "3.11.3"
  },
  "orig_nbformat": 4
 },
 "nbformat": 4,
 "nbformat_minor": 2
}
